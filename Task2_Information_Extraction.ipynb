{
  "nbformat": 4,
  "nbformat_minor": 0,
  "metadata": {
    "colab": {
      "provenance": []
    },
    "kernelspec": {
      "name": "python3",
      "display_name": "Python 3"
    },
    "language_info": {
      "name": "python"
    }
  },
  "cells": [
    {
      "cell_type": "code",
      "execution_count": 14,
      "metadata": {
        "id": "sXUcQ2hpRTrx"
      },
      "outputs": [],
      "source": [
        "import os\n",
        "import openai\n",
        "import json"
      ]
    },
    {
      "cell_type": "markdown",
      "source": [
        "**Initialize Groq/OpenAI client**"
      ],
      "metadata": {
        "id": "G7Gd-uyHSLuA"
      }
    },
    {
      "cell_type": "code",
      "source": [
        "os.environ[\"GROQ_API_KEY\"] = \"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\"\n",
        "\n",
        "client = openai.OpenAI(\n",
        "    base_url=\"https://api.groq.com/openai/v1\",\n",
        "    api_key=os.environ.get(\"GROQ_API_KEY\")\n",
        ")"
      ],
      "metadata": {
        "id": "9idd3B5iSIRM"
      },
      "execution_count": 15,
      "outputs": []
    },
    {
      "cell_type": "markdown",
      "source": [
        "**JSON Schema**"
      ],
      "metadata": {
        "id": "AAmKq-TTSQU3"
      }
    },
    {
      "cell_type": "code",
      "source": [
        "REQUIRED_FIELDS = [\"name\", \"email\", \"phone\", \"location\", \"age\"]"
      ],
      "metadata": {
        "id": "mwkRcCesSIUH"
      },
      "execution_count": 16,
      "outputs": []
    },
    {
      "cell_type": "markdown",
      "source": [
        "**Function: Extract user info**"
      ],
      "metadata": {
        "id": "X7le7UJXSxvn"
      }
    },
    {
      "cell_type": "code",
      "source": [
        "def extract_info(chat_text):\n",
        "    \"\"\"\n",
        "    Extract structured information from chat text using Groq API.\n",
        "    Ensures output is valid JSON.\n",
        "    \"\"\"\n",
        "    REQUIRED_FIELDS = [\"name\", \"email\", \"phone\", \"location\", \"age\"]\n",
        "\n",
        "    response = client.chat.completions.create(\n",
        "        model=\"llama-3.1-8b-instant\",   # 👈 use available model\n",
        "        messages=[\n",
        "            {\"role\": \"system\", \"content\": \"You are an information extractor. Only reply in valid JSON.\"},\n",
        "            {\"role\": \"user\", \"content\": f\"Extract the following fields from this chat:\\n\"\n",
        "                                        f\"{REQUIRED_FIELDS}\\n\\nChat:\\n{chat_text}\"}\n",
        "        ],\n",
        "        temperature=0,                  # deterministic output for JSON\n",
        "        max_completion_tokens=300,\n",
        "        top_p=1,\n",
        "        stream=False,\n",
        "        response_format={\"type\": \"json_object\"}  # 👈 forces JSON output\n",
        "    )\n",
        "\n",
        "    # Parse JSON safely\n",
        "    try:\n",
        "        extracted = json.loads(response.choices[0].message.content)\n",
        "    except json.JSONDecodeError as e:\n",
        "        print(\"Error parsing JSON:\", e)\n",
        "        extracted = {\"error\": \"Failed to parse JSON\"}\n",
        "\n",
        "    return extracted"
      ],
      "metadata": {
        "id": "kTdNb70LSIaK"
      },
      "execution_count": 26,
      "outputs": []
    },
    {
      "cell_type": "markdown",
      "source": [
        "**Sample chats**"
      ],
      "metadata": {
        "id": "FiPOFhEPSht3"
      }
    },
    {
      "cell_type": "code",
      "source": [
        "sample_chats = [\n",
        "    \"Hi, my name is Alice Johnson. You can reach me at alice@example.com or call 555-1234. I live in New York and I’m 29 years old.\",\n",
        "    \"Hello, I’m Bob, 35 years old from Los Angeles. My email is bob@xyz.com, phone number is 987-6543.\",\n",
        "    \"This is Charlie, 42 years old, based in Chicago. Contact me at charlie123@mail.com or 111-222-3333.\"\n",
        "]"
      ],
      "metadata": {
        "id": "8fE5kIfwSIXJ"
      },
      "execution_count": 27,
      "outputs": []
    },
    {
      "cell_type": "markdown",
      "source": [
        "**Function: Validate schema**"
      ],
      "metadata": {
        "id": "6l3G8jf1TFf4"
      }
    },
    {
      "cell_type": "code",
      "source": [
        "def validate_schema(data):\n",
        "    \"\"\"\n",
        "    Validate extracted JSON against required schema.\n",
        "    Returns True if all fields exist, False otherwise.\n",
        "    \"\"\"\n",
        "    return all(field in data for field in REQUIRED_FIELDS)"
      ],
      "metadata": {
        "id": "wjfQVfZtSIc8"
      },
      "execution_count": 28,
      "outputs": []
    },
    {
      "cell_type": "markdown",
      "source": [
        "**Run extraction on sample chats**"
      ],
      "metadata": {
        "id": "uPEDzHf5TOA5"
      }
    },
    {
      "cell_type": "code",
      "source": [
        "for idx, chat in enumerate(sample_chats):\n",
        "    print(f\"\\n--- Chat Sample {idx+1} ---\")\n",
        "    info = extract_info(chat)\n",
        "    print(\"Extracted Info:\", info)\n",
        "    print(\"Valid Schema:\", validate_schema(info))"
      ],
      "metadata": {
        "colab": {
          "base_uri": "https://localhost:8080/"
        },
        "id": "fNrl5gXzTLIp",
        "outputId": "dda3c6c3-748e-4f6b-b69b-8f9e8a9f855c"
      },
      "execution_count": 29,
      "outputs": [
        {
          "output_type": "stream",
          "name": "stdout",
          "text": [
            "\n",
            "--- Chat Sample 1 ---\n",
            "Extracted Info: {'name': 'Alice Johnson', 'email': 'alice@example.com', 'phone': '555-1234', 'location': 'New York', 'age': 29}\n",
            "Valid Schema: True\n",
            "\n",
            "--- Chat Sample 2 ---\n",
            "Extracted Info: {'name': 'Bob', 'email': 'bob@xyz.com', 'phone': '987-6543', 'location': 'Los Angeles', 'age': 35}\n",
            "Valid Schema: True\n",
            "\n",
            "--- Chat Sample 3 ---\n",
            "Extracted Info: {'name': 'Charlie', 'email': 'charlie123@mail.com', 'phone': '111-222-3333', 'location': 'Chicago', 'age': 42}\n",
            "Valid Schema: True\n"
          ]
        }
      ]
    }
  ]
}